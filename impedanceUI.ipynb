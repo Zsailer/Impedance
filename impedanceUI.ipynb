{
 "metadata": {
  "name": ""
 },
 "nbformat": 3,
 "nbformat_minor": 0,
 "worksheets": [
  {
   "cells": [
    {
     "cell_type": "markdown",
     "metadata": {},
     "source": [
      "# Impedance Analyzer Program\n",
      "\n",
      "Run this cell to initialize communication with the impedance analyzer and load all necessary modules. "
     ]
    },
    {
     "cell_type": "code",
     "collapsed": false,
     "input": [
      "%pylab inline\n",
      "%run impedanceanalyzer.py\n",
      "UI()"
     ],
     "language": "python",
     "metadata": {},
     "outputs": [
      {
       "output_type": "stream",
       "stream": "stdout",
       "text": [
        "Populating the interactive namespace from numpy and matplotlib\n"
       ]
      },
      {
       "javascript": [
        "\n",
        "    \n",
        "    function sweep_select() {\n",
        "        return $('<div>').attr('align','right').addClass('span3').text('Type of Sweep:')\n",
        "                .append($('<select/>').addClass('span3 switch-box').addClass('sweep_type')\n",
        "                    .append(($('<option>').val('noFreq').text('No Sweep')))\n",
        "                    .append(($('<option>').val('regFreq').text('Regular Frequency Sweep')))\n",
        "                    .append(($('<option>').val('logFreq').text('Log Frequency Sweep')))\n",
        "                    .append(($('<option>').val('regVolt').text('Voltage Bias Sweep')))\n",
        "                    .append(($('<option>').val('custsweep').text('Custom Sweep'))));           \n",
        "    }\n",
        "    \n",
        "    function switch_box(name, variable) {\n",
        "        return $('<div>').attr('align','right').addClass('span3').text(name+': ')\n",
        "                .append($('<select/>').addClass('span3 switch-box').addClass(variable)\n",
        "                .append(($('<option>').val('panel[\"'+ variable + '\"]=\"On\"').text('ON')))\n",
        "                .append(($('<option>').val('panel[\"'+ variable + '\"]=\"Off\"').text('OFF'))));\n",
        "    }\n",
        "\n",
        "    function select_box(name, item, variable, len) {\n",
        "        var box = $('<div>').attr('align','right').addClass('span3').text(name+': ')\n",
        "        var select = $('<select>').addClass('span3 select-box').addClass(item)\n",
        "        for (var i=0;i<len;i++) {\n",
        "            select = select.append($('<option>')\n",
        "            .val('panel[\"'+ item + '\"]='+variable[i]).text(variable[i]))\n",
        "        };\n",
        "        return box.append(select);\n",
        "    };\n",
        "\n",
        "    function reg_sweep(item, settings){\n",
        "        var form = $('<form>').addClass('span4')\n",
        "        var field = $('<fieldset>')\n",
        "                    .append('<legend>'+item+' Sweep</legend>')\n",
        "                    .append('<label>Start '+item+'</label>')\n",
        "                    .append('<input class=\"start_'+item+'\">').attr('type','text')\n",
        "                    .append('<label>Stop '+item+'</label>')\n",
        "                    .append('<input class=\"stop_'+item+'\">').attr('type','text')\n",
        "                    .append('<label>Step '+item+'</label>')\n",
        "                    .append('<input class=\"step_'+item+'\">').attr('type','text')\n",
        "        return $('<div>').addClass('sweep_div').append(form.append(field)).append(run_button(settings, item))\n",
        "    };\n",
        "\n",
        "    function no_sweep(settings){\n",
        "        var form = $('<form>').addClass('span4')\n",
        "        var field = $('<fieldset>')\n",
        "                    .append('<label>Test Frequency:</label>')\n",
        "                    .append('<input class=\"start_frequency\">').attr('type','text')\n",
        "        return $('<div>').addClass('sweep_div').append(form.append(field)).append(run_button(settings, false))\n",
        "    };\n",
        "    \n",
        "    function log_sweep(settings){\n",
        "        var form = $('<form>').addClass('span4')\n",
        "        var field = $('<fieldset>')\n",
        "                    .append('<legend>Log Frequency Sweep</legend>')\n",
        "                    .append('<label>Start Decade</label>')\n",
        "                    .append('<input class=\"start_frequency\">').attr('type','text')\n",
        "                    .append('<label>Stop Decade</label>')\n",
        "                    .append('<input class=\"stop_frequency\">').attr('type','text')\n",
        "                    .append('<label>Number of Points in Decade</label>')\n",
        "                    .append('<input class=\"step_frequency\">').attr('type','text')\n",
        "        return $('<div>').addClass('sweep_div').append(form.append(field)).append(run_button(settings, 'Frequency'))\n",
        "    };\n",
        "\n",
        "    function status() {\n",
        "        return $('<div>').addClass('span11 ')\n",
        "                .addClass('progress')\n",
        "                .append($('<div>').addClass('bar progress-bar')\n",
        "                .css('width','1%'));\n",
        "\n",
        "    };\n",
        "\n",
        "    function run_button(settings, sweep) {\n",
        "        return $('<div>').addClass('span12 button_div')\n",
        "                .append($('<button>').addClass('span2 run-button')\n",
        "                .addClass('btn btn-primary').text('Run')\n",
        "                .click(function(){\n",
        "                    // sends all JS settings to kernel and converts them\n",
        "                    // into python variables\n",
        "                    var len = settings.length\n",
        "                    for (var i=0;i<len;i++) {\n",
        "                        var value = $(settings[i]).val()\n",
        "                        IPython.notebook.kernel.execute(value)\n",
        "                    };\n",
        "                \n",
        "                    // set the start, stop, and step frequency to \n",
        "                    // python variables\n",
        "                    if (sweep == false) {\n",
        "                        var start = $('.start_'+sweep).val()\n",
        "                        IPython.notebook.kernel.execute('start='+start)\n",
        "                    }\n",
        "                    else if (sweep == null){}\n",
        "                    else {\n",
        "                        var start = $('.start_'+sweep).val()\n",
        "                        var stop = $('.stop_'+sweep).val()\n",
        "                        var step = $('.step_'+sweep).val()\n",
        "                        IPython.notebook.kernel.execute('start='+start)\n",
        "                        IPython.notebook.kernel.execute('stop='+stop)\n",
        "                        IPython.notebook.kernel.execute('step='+step)\n",
        "                        var gap = stop-start;\n",
        "                        IPython.notebook.kernel.execute('sweep_data,it=freq_range(start,stop,step)');\n",
        "                    };\n",
        "                \n",
        "                    // grab the front panel settings in python and convert\n",
        "                    // them to a message for the impedance analyzer\n",
        "                    IPython.notebook.kernel.execute('pre_mess=grab_settings(panel)');\n",
        "                    IPython.notebook.kernel.execute('message=message_to_analyzer(sweep_data,pre_mess)');\n",
        "                    }));\n",
        "    };\n",
        "\n",
        "    var settings = ['.displayA','.displayB','.circuit','.trigger',\n",
        "                    '.sweep','.dcbias','.sweep_mode','.append']\n",
        "\n",
        "    $('#AnalyzerUI').append('<h3>Impedance Analyzer:</h3>')\n",
        "        .append(sweep_select())\n",
        "        .append(select_box('Display A', 'displayA', ['\"Z/Y\"','\"R/G\"','\"L\"','\"C\"'], 4))\n",
        "        .append(select_box('Display B', 'displayB', ['\"Rad\"','\"Deg\"','\"C\"'], 3))\n",
        "        .append(select_box('Ciruit Mode', 'circuit', ['\"Parallel\"', '\"Series\"', '\"Auto\"'], 3))\n",
        "        .append(select_box('Trigger', 'trigger', ['\"Hold/Manual\"', '\"External\"', '\"Internal\"'], 3))\n",
        "        .append(switch_box('Sweep','sweep'))\n",
        "        .append(switch_box('DC Bias','dcbias'))\n",
        "        .append(select_box('Sweep mode', 'sweep_mode', ['\"Frequency\"', '\"Voltage Bias\"', '\"Custom\"'], 3))\n",
        "        .append(switch_box('Append file','append'))\n",
        "        .append($('<div>').addClass('span10').addClass('sweep_settings'))\n",
        "        .append($('<div>').addClass('sweep_div').append(no_sweep(settings)))\n",
        "        \n",
        "    $('.sweep_type').change(function(){\n",
        "        var sel = $('.sweep_type').val();\n",
        "        if (sel == 'regFreq') {\n",
        "            $('.sweep_div').replaceWith(reg_sweep('Frequency', settings));\n",
        "        }\n",
        "        else if (sel == 'noFreq') {\n",
        "            $('.sweep_div').replaceWith(no_sweep(settings));\n",
        "        }\n",
        "        else if (sel == 'regVolt') {\n",
        "            $('.sweep_div').replaceWith(reg_sweep('Voltage',settings));\n",
        "        }\n",
        "        else if (sel == 'logFreq') {\n",
        "            $('.sweep_div').replaceWith(log_sweep(settings));\n",
        "        }\n",
        "        else if (sel == 'custsweep') {\n",
        "            $('.sweep_div').replaceWith($('<div>').addClass('sweep_div').append(run_button(settings, null)));\n",
        "\n",
        "        }\n",
        "    })\n",
        "    "
       ],
       "metadata": {},
       "output_type": "pyout",
       "prompt_number": 1,
       "text": [
        "<IPython.core.display.Javascript at 0x1074daa90>"
       ]
      }
     ],
     "prompt_number": 1
    },
    {
     "cell_type": "markdown",
     "metadata": {},
     "source": [
      "<div id='AnalyzerUI'></div><div id='sweepUI'></div>"
     ]
    },
    {
     "cell_type": "markdown",
     "metadata": {},
     "source": [
      "<div id='run'></div>"
     ]
    },
    {
     "cell_type": "code",
     "collapsed": false,
     "input": [
      "message"
     ],
     "language": "python",
     "metadata": {},
     "outputs": [
      {
       "metadata": {},
       "output_type": "pyout",
       "prompt_number": 31,
       "text": [
        "'RL1,D1,R8,F1,B2,A1,W1,T3,C3,AB,W1,TF1.000000EN,PF12.000000EN,SF1.000000EN,G0,W2,EX'"
       ]
      }
     ],
     "prompt_number": 31
    }
   ],
   "metadata": {}
  }
 ]
}